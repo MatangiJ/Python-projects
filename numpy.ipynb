{
 "cells": [
  {
   "cell_type": "code",
   "execution_count": 2,
   "metadata": {
    "scrolled": false
   },
   "outputs": [
    {
     "data": {
      "text/plain": [
       "'1.15.4'"
      ]
     },
     "execution_count": 2,
     "metadata": {},
     "output_type": "execute_result"
    }
   ],
   "source": [
    "import numpy as np\n",
    "np.__version__\n"
   ]
  },
  {
   "cell_type": "code",
   "execution_count": 3,
   "metadata": {},
   "outputs": [
    {
     "name": "stdout",
     "output_type": "stream",
     "text": [
      "[1 2 3]\n"
     ]
    }
   ],
   "source": [
    "a=np.array([1,2,3])        #creates 1D array\n",
    "print(a)\n",
    "print(type(a))            #returns the data type. here, n dimensional array"
   ]
  },
  {
   "cell_type": "code",
   "execution_count": 25,
   "metadata": {},
   "outputs": [
    {
     "name": "stdout",
     "output_type": "stream",
     "text": [
      "[[1 2 3]\n",
      " [4 5 6]]\n",
      "<class 'numpy.ndarray'>\n",
      "2\n",
      "(2, 3)\n",
      "[list([1, 2, 3, 4]) list([4, 5, 6])]\n",
      "1\n",
      "[[1. 1. 1. 1.]\n",
      " [1. 1. 1. 1.]\n",
      " [1. 1. 1. 1.]]\n",
      "[[1. 1. 1. 1.]\n",
      " [1. 1. 1. 1.]\n",
      " [1. 1. 1. 1.]]\n",
      "[[0 0 0 0]\n",
      " [0 0 0 0]\n",
      " [0 0 0 0]]\n",
      "\n",
      "[[0 0 0 0]\n",
      " [0 0 0 0]\n",
      " [0 0 0 0]]\n",
      "[[2.5 2.5 2.5 2.5 2.5]\n",
      " [2.5 2.5 2.5 2.5 2.5]\n",
      " [2.5 2.5 2.5 2.5 2.5]\n",
      " [2.5 2.5 2.5 2.5 2.5]\n",
      " [2.5 2.5 2.5 2.5 2.5]]\n",
      "[[2.5 2.5 2.5 2.5 2.5]\n",
      " [2.5 2.5 2.5 2.5 2.5]\n",
      " [2.5 2.5 2.5 2.5 2.5]\n",
      " [2.5 2.5 2.5 2.5 2.5]\n",
      " [2.5 2.5 2.5 2.5 2.5]]\n",
      "[[1 0 0]\n",
      " [0 1 0]\n",
      " [0 0 1]]\n",
      "[[0.86778583 0.14542159]\n",
      " [0.26240498 0.50632837]\n",
      " [0.0145875  0.73159148]\n",
      " [0.316974   0.49459092]\n",
      " [0.80105479 0.08433927]]\n",
      "[[ 61  83  57  65]\n",
      " [ 91 100  80  69]\n",
      " [ 68  71  76  62]]\n",
      "[[1 2 3 4]\n",
      " [4 5 6 7]]\n",
      "8\n",
      "(2, 4)\n",
      "[[1 2 3 4 4 5 6 7 1]\n",
      " [2 3 4 4 5 6 7 1 2]]\n"
     ]
    },
    {
     "name": "stderr",
     "output_type": "stream",
     "text": [
      "C:\\Users\\Prakruti Joshi\\Anaconda3\\lib\\site-packages\\ipykernel_launcher.py:30: DeprecationWarning: This function is deprecated. Please call randint(50, 100 + 1) instead\n"
     ]
    }
   ],
   "source": [
    "a=np.array([[1,2,3],[4,5,6]])        #creates 2x3 array\n",
    "print(a)\n",
    "print(type(a))\n",
    "print(a.ndim)                        #ndim is for dimension number i.e. 2\n",
    "print(a.shape)                              #shape is for no. of rows & columns\n",
    "\n",
    "a=np.array([[1,2,3,4],[4,5,6]])        #creates 1x2 matrix\n",
    "print(a)\n",
    "print(a.ndim)            \n",
    "\n",
    "a,b=np.ones((2,3,4))                #creates 2 arrays of 3 rosws and 4 columns\n",
    "print(a)\n",
    "print(b)            \n",
    "\n",
    "a,b=np.zeros((2,3,4),dtype=np.int)  #creates 2 arrays of 3 rows and 4 columns\n",
    "print(a)\n",
    "print()                            #prints blank space\n",
    "print(b)            \n",
    "\n",
    "a,b=np.full((2,5,5),2.5)                #creates 2 arrays of 2 rows and 2 columns with element 3\n",
    "print(a)\n",
    "print(b)            \n",
    "\n",
    "a=np.identity(3, dtype=np.int)                #creates 2 arrays of 2 rows and 2 columns with element \n",
    "print(a)\n",
    "\n",
    "a=np.random.random((5,2))\n",
    "print(a)\n",
    "\n",
    "a=np.random.random_integers(50,100,(3,4))\n",
    "print(a)\n",
    "\n",
    "a=np.array([(1,2,3,4),(4,5,6,7)])                #creates 2 arrays of 2 rows and 2 columns with element 3\n",
    "print(a)\n",
    "print(a.size)            \n",
    "print(a.shape)          \n",
    "\n",
    "a=np.resize(a,(6,3))                        #resizes the array into 6x3\n",
    "a=np.reshape(a,(2,9))                       #the no. of rows and columns should match with the no. of elements\n",
    "print(a)"
   ]
  },
  {
   "cell_type": "code",
   "execution_count": 27,
   "metadata": {},
   "outputs": [
    {
     "name": "stdout",
     "output_type": "stream",
     "text": [
      "[[ 1  2  3  4]\n",
      " [ 3  4  5  6]\n",
      " [ 8  9 10 11]]\n",
      "3\n",
      "[ 3  5 10]\n",
      "\n",
      "[[1 2 3 4]\n",
      " [3 4 5 6]]\n",
      "[ 1.    3.25  5.5   7.75 10.  ]\n"
     ]
    }
   ],
   "source": [
    "#indexing & slicing\n",
    "a=np.array([(1,2,3,4),(3,4,5,6),(8,9,10,11)]) \n",
    "print(a)\n",
    "print(a[0,2])             #prints 0th row 2nd column element\n",
    "print(a[:,2])\n",
    "print()\n",
    "print(a[0:2,:])          #prints o to 1 rows and all columns\n",
    "\n",
    "a=np.linspace(1,10,5)    #divides 1-10 into 5 equal parts\n",
    "print(a)\n",
    "\n",
    "a=list(range(5))\n",
    "print(a)\n",
    "\n",
    "a=np.arange(0,25,5)       #divides 0 to 25 into increment of 5; 25 is excluded \n",
    "print(a)\n",
    "\n",
    "a=np.arange(0,26,5)     #divides 0 to 25 into increment of 5; 26 is excluded\n",
    "print(a)\n"
   ]
  },
  {
   "cell_type": "code",
   "execution_count": 60,
   "metadata": {},
   "outputs": [
    {
     "name": "stdout",
     "output_type": "stream",
     "text": [
      "3\n",
      "8\n",
      "13\n",
      "63\n",
      "10.5\n",
      "10.5\n",
      "[[1.         0.         1.73205081]\n",
      " [1.73205081 2.         2.23606798]]\n",
      "1.699673171197595\n",
      "[[0.               -inf 1.09861229]\n",
      " [1.09861229 1.38629436 1.60943791]]\n",
      "\n",
      "[[1.   0.   1.73]\n",
      " [1.73 2.   2.24]]\n",
      "[[1 2]\n",
      " [3 4]]\n",
      "[[5 6]\n",
      " [7 8]]\n",
      "[[ 6  8]\n",
      " [10 12]]\n",
      "[[-4 -4]\n",
      " [-4 -4]]\n",
      "\n",
      "[[ 5 12]\n",
      " [21 32]]\n",
      "[[0.2        0.33333333]\n",
      " [0.42857143 0.5       ]]\n",
      "[[1 2]\n",
      " [3 4]]\n",
      "[[19 22]\n",
      " [43 50]]\n"
     ]
    },
    {
     "name": "stderr",
     "output_type": "stream",
     "text": [
      "C:\\Users\\Prakruti Joshi\\Anaconda3\\lib\\site-packages\\ipykernel_launcher.py:16: RuntimeWarning: divide by zero encountered in log\n",
      "  app.launch_new_instance()\n"
     ]
    }
   ],
   "source": [
    "#aggregate functions\n",
    "a=np.array([(8,9),(10,11),(12,13)])\n",
    "print(len(a))\n",
    "print(a.min())\n",
    "print(a.max())\n",
    "print(a.sum())\n",
    "print(a.sum()/a.size)\n",
    "print(a.mean())\n",
    "\n",
    "#math functions\n",
    "\n",
    "import numpy as np\n",
    "a=np.array([(1,0,3),(3,4,5)])\n",
    "print(np.sqrt(a))\n",
    "print(np.std(a))\n",
    "print(np.log(a))\n",
    "print()\n",
    "b=np.sqrt(a)\n",
    "print(b.round(2))\n",
    "\n",
    "x=np.array([(1,2),(3,4)])\n",
    "y=np.array([(5,6),(7,8)])\n",
    "print(x)\n",
    "print(y)\n",
    "print(x+y)\n",
    "print(x-y)\n",
    "print()\n",
    "print(x*y)      #performs multiplication on matrix elements like(1*5),(2*6), etc in this case\n",
    "print(x/y)  \n",
    "print(x%y)\n",
    "print(x@y)      #performs proper matrix multiplication as done in maths\n",
    "#print(np.dot(x,y))\n",
    "#print(np.add(x,y))"
   ]
  },
  {
   "cell_type": "code",
   "execution_count": 63,
   "metadata": {
    "collapsed": true
   },
   "outputs": [
    {
     "name": "stdout",
     "output_type": "stream",
     "text": [
      "[[1 2]\n",
      " [3 4]\n",
      " [5 6]\n",
      " [7 8]]\n",
      "\n",
      "[[1 2]\n",
      " [3 4]\n",
      " [5 6]\n",
      " [7 8]]\n",
      "[[1 2 5 6]\n",
      " [3 4 7 8]]\n",
      "[[1 2]\n",
      " [3 4]]\n",
      "[1 2 3 4]\n",
      "[[1 2]\n",
      " [3 4]]\n"
     ]
    }
   ],
   "source": [
    "#help\n",
    "#?np.array\n",
    "\n",
    "#joining arrays\n",
    "#d=np.concatenate((x,y),axis=0)\n",
    "print(d)\n",
    "print()\n",
    "\n",
    "print(np.vstack((x,y)))\n",
    "print(np.hstack((x,y)))\n",
    "\n",
    "#convert array into a single row\n",
    "print(x)\n",
    "z=x.ravel()                      #converts 2D to 1D\n",
    "print(z)\n",
    "print(z.reshape(2,2))"
   ]
  },
  {
   "cell_type": "code",
   "execution_count": 65,
   "metadata": {},
   "outputs": [],
   "source": [
    "import numpy\n",
    "?numpy.mean"
   ]
  },
  {
   "cell_type": "code",
   "execution_count": 27,
   "metadata": {},
   "outputs": [
    {
     "name": "stdout",
     "output_type": "stream",
     "text": [
      "[ 1  2  3  4  5  6  6  7  9 10]\n",
      "[[ 1  2]\n",
      " [ 3  4]\n",
      " [ 5  6]\n",
      " [ 6  7]\n",
      " [ 9 10]]\n",
      "\n",
      "[1 5 2 3 5 4 5 5 6]\n",
      "[1 3 5 4 5 5 6]\n"
     ]
    }
   ],
   "source": [
    "#append function is used to join 2 arrays of unequal sizes\n",
    "x=np.array([(1,2,3),(4,5,6)])\n",
    "y=np.array([(6,7),(9,10)])\n",
    "new_array =np.append(x,y)\n",
    "print(new_array)\n",
    "new_array =np.reshape(new_array,(5,2))\n",
    "print(new_array)\n",
    "print()\n",
    "#inserting elements in the array\n",
    "#x=np.array([(1,2,3),(4,5,6)])\n",
    "new_array=np.insert(x,[1,3,4],[5,10,15])\n",
    "print(new_array)\n",
    "\n",
    "#deleting elements from array\n",
    "new_array=np.delete(new_array,[1,2])\n",
    "print(new_array)"
   ]
  },
  {
   "cell_type": "code",
   "execution_count": 58,
   "metadata": {},
   "outputs": [
    {
     "name": "stdout",
     "output_type": "stream",
     "text": [
      "[[nan nan nan]\n",
      " [ 1.  2.  3.]\n",
      " [ 4. nan  6.]\n",
      " [ 7.  8.  9.]]\n"
     ]
    }
   ],
   "source": [
    "#read a file from given location\n",
    "read_file=np.genfromtxt(r'D:\\prakruti\\sample.txt',delimiter=\",\")#,unpack=False)\n",
    "                        #, skip_header=1,delimiter=\",\",unpack=False)\n",
    "print(read_file)\n"
   ]
  },
  {
   "cell_type": "code",
   "execution_count": 12,
   "metadata": {},
   "outputs": [
    {
     "name": "stdout",
     "output_type": "stream",
     "text": [
      "0    101\n",
      "1    102\n",
      "2    103\n",
      "3    104\n",
      "dtype: int32\n",
      "\n",
      "102\n",
      "0    101\n",
      "1    100\n",
      "2    103\n",
      "3    104\n",
      "dtype: int32\n",
      "1001    101\n",
      "1002    100\n",
      "1003    103\n",
      "1004    104\n",
      "dtype: int32\n",
      "1001    101\n",
      "1002    100\n",
      "1003    103\n",
      "1004    104\n",
      "dtype: int32\n",
      "a    101\n",
      "b    100\n",
      "c    103\n",
      "d    104\n",
      "dtype: int32\n",
      "100\n",
      "a    0\n",
      "b    1\n",
      "c    2\n",
      "dtype: int64\n",
      "0\n",
      "\n",
      "b    1\n",
      "c    2\n",
      "dtype: int64\n"
     ]
    }
   ],
   "source": [
    "import pandas as pd\n",
    "import numpy as np\n",
    "data=np.array([101,102,103,104])\n",
    "s=pd.Series(data)\n",
    "print(s)\n",
    "print()\n",
    "\n",
    "print(s[1])\n",
    "s[1]=100\n",
    "print(s)\n",
    "\n",
    "s=pd.Series(data,index=[1001,1002,1003,1004])\n",
    "print(s)\n",
    "#print(s[1])                            #since index nos. are over written, thus there is no index no.1\n",
    "\n",
    "list1=np.arange(1001,1005,1)\n",
    "s=pd.Series(data,index=list1)\n",
    "print(s)\n",
    "\n",
    "s=pd.Series(data,index=[\"a\",\"b\",\"c\",\"d\"])\n",
    "print(s)\n",
    "print(s['b'])                            #since index nos. are over written, thus there is no index no.1\n",
    "\n",
    "data={'a':0.,'b':1.,'c':2}\n",
    "s=pd.Series(data)\n",
    "print(s)\n",
    "\n",
    "print(s['a'])\n",
    "print()\n",
    "print(s[-2:])"
   ]
  },
  {
   "cell_type": "markdown",
   "metadata": {},
   "source": [
    "# DATA FRAMES"
   ]
  },
  {
   "cell_type": "code",
   "execution_count": 41,
   "metadata": {},
   "outputs": [
    {
     "name": "stdout",
     "output_type": "stream",
     "text": [
      "        0   1\n",
      "0    Amit  40\n",
      "1  Nikita  23\n",
      "2   Clara  33\n",
      "     Name  Age\n",
      "0    Amit   40\n",
      "1  Nikita   23\n",
      "2   Clara   33\n",
      "     Name  Age\n",
      "0    Amit   40\n",
      "1  Nikita   40\n",
      "2   Clara   40\n",
      "         Name  Age\n",
      "rank1    Amit   40\n",
      "rank2  Nikita   40\n",
      "rank3   Clara   40\n"
     ]
    },
    {
     "data": {
      "text/html": [
       "<div>\n",
       "<style scoped>\n",
       "    .dataframe tbody tr th:only-of-type {\n",
       "        vertical-align: middle;\n",
       "    }\n",
       "\n",
       "    .dataframe tbody tr th {\n",
       "        vertical-align: top;\n",
       "    }\n",
       "\n",
       "    .dataframe thead th {\n",
       "        text-align: right;\n",
       "    }\n",
       "</style>\n",
       "<table border=\"1\" class=\"dataframe\">\n",
       "  <thead>\n",
       "    <tr style=\"text-align: right;\">\n",
       "      <th></th>\n",
       "      <th>Name</th>\n",
       "      <th>Age</th>\n",
       "    </tr>\n",
       "  </thead>\n",
       "  <tbody>\n",
       "    <tr>\n",
       "      <th>rank1</th>\n",
       "      <td>Amit</td>\n",
       "      <td>40</td>\n",
       "    </tr>\n",
       "    <tr>\n",
       "      <th>rank2</th>\n",
       "      <td>Nikita</td>\n",
       "      <td>40</td>\n",
       "    </tr>\n",
       "    <tr>\n",
       "      <th>rank3</th>\n",
       "      <td>Clara</td>\n",
       "      <td>40</td>\n",
       "    </tr>\n",
       "  </tbody>\n",
       "</table>\n",
       "</div>"
      ],
      "text/plain": [
       "         Name  Age\n",
       "rank1    Amit   40\n",
       "rank2  Nikita   40\n",
       "rank3   Clara   40"
      ]
     },
     "execution_count": 41,
     "metadata": {},
     "output_type": "execute_result"
    }
   ],
   "source": [
    "data=[['Amit',40],['Nikita',23],['Clara',33]]\n",
    "df=pd.DataFrame(data)\n",
    "#df=pd.DataFrame(data, columns=[\"Name\",\"Age\"]) \n",
    "print(df)\n",
    "\n",
    "df.columns=[\"Name\",\"Age\"]       #to assign column names after data set is imported.\n",
    "print(df)\n",
    "\n",
    "#indexed data frame from dict\n",
    "data={'Name':['Amit','Nikita','Clara'],'Age':[40,23,33]}\n",
    "df=pd.DataFrame(data)\n",
    "print(df)\n",
    "\n",
    "df=pd.DataFrame(data, index=['rank1','rank2','rank3'])\n",
    "print(df)\n",
    "\n",
    "df[[\"Name\",\"Age\"]]    #to define the headings and indexes"
   ]
  },
  {
   "cell_type": "code",
   "execution_count": 39,
   "metadata": {},
   "outputs": [
    {
     "name": "stdout",
     "output_type": "stream",
     "text": [
      "         Name address  Age  NewCol\n",
      "rank1    Amit  Mumbai   40       5\n",
      "rank2  Nikita    Pune   23      10\n",
      "rank3   Clara  Mumbai   33      12\n",
      "         Name address  Age  NewCol  Rev_Col\n",
      "rank1    Amit  Mumbai   40       5       10\n",
      "rank2  Nikita    Pune   23      10       20\n",
      "rank3   Clara  Mumbai   33      12       24\n",
      "         Name address  Age  Rev_Col\n",
      "rank1    Amit  Mumbai   40       10\n",
      "rank2  Nikita    Pune   23       20\n",
      "rank3   Clara  Mumbai   33       24\n",
      "         Name address  Age\n",
      "rank1    Amit  Mumbai   40\n",
      "rank2  Nikita    Pune   23\n",
      "rank3   Clara  Mumbai   33\n"
     ]
    }
   ],
   "source": [
    "#adding a column\n",
    "df['address']=['Mumbai','Pune','Mumbai']\n",
    "df\n",
    "\n",
    "#re ordering the variables in a data frame\n",
    "df=df[['Name','address','Age']]\n",
    "#print(df)\n",
    "df\n",
    "\n",
    "df[\"NewCol\"]=[5,10,12]\n",
    "print(df)\n",
    "df[\"Rev_Col\"]=df[\"NewCol\"]*2\n",
    "print(df)\n",
    "\n",
    "#dropping a variable or column\n",
    "del df['NewCol']\n",
    "print(df)\n",
    "\n",
    "#df=df.drop('rank1')\n",
    "df=df.drop('Rev_Col', axis=1)     #axis=1 = columns; axis=0 = rows  \n",
    "print(df)\n",
    "\n"
   ]
  },
  {
   "cell_type": "code",
   "execution_count": 40,
   "metadata": {},
   "outputs": [
    {
     "name": "stdout",
     "output_type": "stream",
     "text": [
      "Name       Nikita\n",
      "address      Pune\n",
      "Age            23\n",
      "Name: rank2, dtype: object\n",
      "         Name address  Age\n",
      "rank2  Nikita    Pune   23\n",
      "rank3   Clara  Mumbai   33\n",
      "       Name address  Age\n",
      "rank1  Amit  Mumbai   40\n",
      "      address  age\n",
      "rank2    Pune  NaN\n",
      "rank3  Mumbai  NaN\n",
      "      address  Age\n",
      "rank1  Mumbai   40\n",
      "rank2    Pune   23\n",
      "rank3  Mumbai   33\n"
     ]
    }
   ],
   "source": [
    "#accessing data elements using indexes and labels\n",
    "#loc = row label, iloc= column label or index no.\n",
    "#df.loc[inclusive:inclusive]\n",
    "print(df.loc['rank2'])\n",
    "print(df.loc['rank2':'rank3'])\n",
    "\n",
    "#df.iloc[inclusive:exclusive]\n",
    "print(df.iloc[0:1])\n",
    "\n",
    "print(df.loc[\"rank2\":\"rank3\",[\"address\",\"age\"]])\n",
    "print(df.iloc[:,[1,2]])\n"
   ]
  },
  {
   "cell_type": "code",
   "execution_count": 36,
   "metadata": {},
   "outputs": [
    {
     "name": "stdout",
     "output_type": "stream",
     "text": [
      "Done\n"
     ]
    }
   ],
   "source": [
    "#saving df to a file\n",
    "df.to_csv(r'D:\\Prakruti\\temp.csv',index=True, header=True)   #.txt as well\n",
    "\n",
    "df.to_excel('temp.xlsx', index=False, header=True)\n",
    "print('Done')\n",
    "\n"
   ]
  },
  {
   "cell_type": "code",
   "execution_count": 51,
   "metadata": {},
   "outputs": [
    {
     "name": "stdout",
     "output_type": "stream",
     "text": [
      "['Amit' 'Rahul' 'Clara']\n"
     ]
    },
    {
     "name": "stderr",
     "output_type": "stream",
     "text": [
      "C:\\Users\\Prakruti Joshi\\Anaconda3\\lib\\site-packages\\ipykernel_launcher.py:1: FutureWarning: set_value is deprecated and will be removed in a future release. Please use .at[] or .iat[] accessors instead\n",
      "  \"\"\"Entry point for launching an IPython kernel.\n"
     ]
    },
    {
     "data": {
      "text/html": [
       "<div>\n",
       "<style scoped>\n",
       "    .dataframe tbody tr th:only-of-type {\n",
       "        vertical-align: middle;\n",
       "    }\n",
       "\n",
       "    .dataframe tbody tr th {\n",
       "        vertical-align: top;\n",
       "    }\n",
       "\n",
       "    .dataframe thead th {\n",
       "        text-align: right;\n",
       "    }\n",
       "</style>\n",
       "<table border=\"1\" class=\"dataframe\">\n",
       "  <thead>\n",
       "    <tr style=\"text-align: right;\">\n",
       "      <th></th>\n",
       "      <th>Age</th>\n",
       "      <th>Name</th>\n",
       "    </tr>\n",
       "  </thead>\n",
       "  <tbody>\n",
       "    <tr>\n",
       "      <th>rank1</th>\n",
       "      <td>40</td>\n",
       "      <td>Amit</td>\n",
       "    </tr>\n",
       "    <tr>\n",
       "      <th>rank2</th>\n",
       "      <td>40</td>\n",
       "      <td>Rahul</td>\n",
       "    </tr>\n",
       "    <tr>\n",
       "      <th>rank3</th>\n",
       "      <td>40</td>\n",
       "      <td>Clara</td>\n",
       "    </tr>\n",
       "  </tbody>\n",
       "</table>\n",
       "</div>"
      ],
      "text/plain": [
       "       Age   Name\n",
       "rank1   40   Amit\n",
       "rank2   40  Rahul\n",
       "rank3   40  Clara"
      ]
     },
     "execution_count": 51,
     "metadata": {},
     "output_type": "execute_result"
    }
   ],
   "source": [
    "df.set_value('rank2',['Name','Age'],['Ramesh',40])  #set value -->point to a specific value and change the observation\n",
    "\n",
    "df.loc[(df.Name==\"Ramesh\"),[\"Name\"]]=[\"Rahul\"]#or df.loc[(df.Name==\"Ramesh\")&(df.address==\"Pune\"),[\"address\",\"Name\"]]=[\"Bangalore\",\"Rahul\"]\n",
    "df\n",
    "\n",
    "df.sort_values(['Age','Name'],ascending=True)\n",
    "print(df['Name'].unique())\n",
    "df.sort_index(axis=1,ascending=True)"
   ]
  }
 ],
 "metadata": {
  "kernelspec": {
   "display_name": "Python 3",
   "language": "python",
   "name": "python3"
  },
  "language_info": {
   "codemirror_mode": {
    "name": "ipython",
    "version": 3
   },
   "file_extension": ".py",
   "mimetype": "text/x-python",
   "name": "python",
   "nbconvert_exporter": "python",
   "pygments_lexer": "ipython3",
   "version": "3.7.1"
  }
 },
 "nbformat": 4,
 "nbformat_minor": 2
}
