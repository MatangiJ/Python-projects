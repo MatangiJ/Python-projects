{
 "cells": [
  {
   "cell_type": "code",
   "execution_count": 2,
   "metadata": {},
   "outputs": [],
   "source": [
    "import math"
   ]
  },
  {
   "cell_type": "code",
   "execution_count": 3,
   "metadata": {},
   "outputs": [
    {
     "name": "stdout",
     "output_type": "stream",
     "text": [
      "2.0\n",
      "-11\n",
      "8.0\n",
      "3.141592653589793\n",
      "720\n"
     ]
    }
   ],
   "source": [
    "print(math.sqrt(4))\n",
    "print(math.floor(-10.7))\n",
    "print(math.pow(2,3))\n",
    "print(math.pi)\n",
    "print(math.factorial(6))"
   ]
  },
  {
   "cell_type": "code",
   "execution_count": 9,
   "metadata": {},
   "outputs": [
    {
     "name": "stdout",
     "output_type": "stream",
     "text": [
      "0.17075770637014664\n",
      "91\n",
      "93.70265902802129\n",
      "['d', 'e', 'b', 'a', 'c']\n",
      "c\n"
     ]
    }
   ],
   "source": [
    "import random as rn\n",
    "\n",
    "print(rn.random())\n",
    "print(rn.randrange(50,100))\n",
    "print(rn.uniform(50.5,100))\n",
    "\n",
    "x=['a','b','c','d','e']\n",
    "rn.shuffle(x)\n",
    "print(x)\n",
    "print(rn.choice(x))\n"
   ]
  },
  {
   "cell_type": "code",
   "execution_count": 12,
   "metadata": {},
   "outputs": [
    {
     "name": "stdout",
     "output_type": "stream",
     "text": [
      "Hello World\n",
      "python is a programming language.\n",
      " This is it.\n",
      "Python is a programming language.\n",
      "This is it.\n"
     ]
    }
   ],
   "source": [
    "my_string='Hello World'\n",
    "print(my_string)\n",
    "\n",
    "\"this is a comment\"\n",
    "\n",
    "my_string=\"python is a programming language.\\n This is it.\"\n",
    "print(my_string)\n",
    "\n",
    "my_string=\"\"\"Python is a programming language.\n",
    "This is it.\"\"\"\n",
    "print(my_string)"
   ]
  },
  {
   "cell_type": "code",
   "execution_count": 16,
   "metadata": {
    "scrolled": true
   },
   "outputs": [
    {
     "name": "stdout",
     "output_type": "stream",
     "text": [
      "P\n",
      "n\n",
      "hon is \n",
      "Python is a programming l\n",
      "anguage. Python is interesting.\n",
      "Python is a programming language. Python is interesting.\n"
     ]
    },
    {
     "ename": "NameError",
     "evalue": "name 'my_string' is not defined",
     "output_type": "error",
     "traceback": [
      "\u001b[1;31m---------------------------------------------------------------------------\u001b[0m",
      "\u001b[1;31mNameError\u001b[0m                                 Traceback (most recent call last)",
      "\u001b[1;32m<ipython-input-16-8e958f1d28a1>\u001b[0m in \u001b[0;36m<module>\u001b[1;34m\u001b[0m\n\u001b[0;32m     11\u001b[0m \u001b[1;31m#my_string[3]='B'\u001b[0m\u001b[1;33m\u001b[0m\u001b[1;33m\u001b[0m\u001b[1;33m\u001b[0m\u001b[0m\n\u001b[0;32m     12\u001b[0m \u001b[1;32mdel\u001b[0m \u001b[0mmy_string\u001b[0m\u001b[1;33m\u001b[0m\u001b[1;33m\u001b[0m\u001b[0m\n\u001b[1;32m---> 13\u001b[1;33m \u001b[0mprint\u001b[0m\u001b[1;33m(\u001b[0m\u001b[0mmy_string\u001b[0m\u001b[1;33m)\u001b[0m\u001b[1;33m\u001b[0m\u001b[1;33m\u001b[0m\u001b[0m\n\u001b[0m",
      "\u001b[1;31mNameError\u001b[0m: name 'my_string' is not defined"
     ]
    }
   ],
   "source": [
    "#slicing\n",
    "my_string=\"Python is a programming language. Python is interesting.\"\n",
    "print(my_string[0])\n",
    "print(my_string[-3])\n",
    "#[inclusive:exclusive]\n",
    "print(my_string[3:10])\n",
    "print(my_string[:25])\n",
    "print(my_string[25:])\n",
    "print(my_string[:])\n",
    "#print(my_string[100])\n",
    "#my_string[3]='B'\n",
    "del my_string\n",
    "print(my_string)\n"
   ]
  },
  {
   "cell_type": "code",
   "execution_count": 18,
   "metadata": {},
   "outputs": [
    {
     "name": "stdout",
     "output_type": "stream",
     "text": [
      "Helloworld\n",
      "python\n",
      "['PYTHON', 'IS', 'A', 'PROGRAMMING LANGUAGE.']\n",
      "Haddy Diwali\n"
     ]
    }
   ],
   "source": [
    "str1='Hello'\n",
    "str2='world'\n",
    "str1=str1+\"\"+str2\n",
    "print(str1)\n",
    "\n",
    "print(\"PyThOn\".lower())\n",
    "string=\"python,is,a,programming language.\"\n",
    "print(string.upper().split(sep=\",\"))\n",
    "\n",
    "print('Happy Diwali'.replace('p','d'))\n"
   ]
  },
  {
   "cell_type": "code",
   "execution_count": 26,
   "metadata": {},
   "outputs": [
    {
     "name": "stdout",
     "output_type": "stream",
     "text": [
      "[1, 3, 5, 4, 2]\n",
      "[1, 4.2, 'python', 4.2]\n",
      "<class 'list'>\n",
      "a[2]= 30\n",
      "a[0:3]= [10, 20, 30]\n",
      "a[5:]= [60, 70, 80]\n",
      "[0, 1, 2, 3, 4, 5, 6, 7, 8, 9]\n",
      "[10, 20, 30, 40, 50, 60, 70, 80]\n",
      "[10, 20, 30, 55, 50, 60, 70, 80]\n",
      "['spam', 2, 5.0, [10, 'raj']]\n",
      "[10, 'raj']\n",
      "raj\n"
     ]
    },
    {
     "data": {
      "text/plain": [
       "[10, 20, 30, 55, 50, 60, 70, 80, 'spam', 2, 5.0, [10, 'raj'], 5, 6]"
      ]
     },
     "execution_count": 26,
     "metadata": {},
     "output_type": "execute_result"
    }
   ],
   "source": [
    "#python list\n",
    "mylist1=[1,3,5,4,2]\n",
    "mylist2=[1,4.2,'python',4.2]\n",
    "\n",
    "print(mylist1)\n",
    "print(mylist2)\n",
    "print(type(mylist1))\n",
    "\n",
    "#use of slicing operator\n",
    "a=[10,20,30,40,50,60,70,80]\n",
    "\n",
    "print(\"a[2]=\",a[2])\n",
    "print(\"a[0:3]=\",a[0:3])\n",
    "print(\"a[5:]=\",a[5:])\n",
    "\n",
    "print(list(range(0,10)))             #creates numbers ranging from 0 to 9\n",
    "\n",
    "#lists are mutable\n",
    "a=[10,20,30,40,50,60,70,80]\n",
    "print(a)\n",
    "a[3]=55\n",
    "print(a)\n",
    "\n",
    "#nested list\n",
    "b=['spam',2,5.0,[10,\"raj\"]]\n",
    "print(b)\n",
    "print(b[3])\n",
    "print(b[3][1])\n",
    "\n",
    "c=a+b+[5,6]\n",
    "c"
   ]
  },
  {
   "cell_type": "code",
   "execution_count": 28,
   "metadata": {},
   "outputs": [
    {
     "name": "stdout",
     "output_type": "stream",
     "text": [
      "Enter an element: 0\n",
      "Enter an element: 0\n",
      "Enter an element: 0\n",
      "Enter an element: 0\n",
      "Enter an element: 0\n",
      "[1, 2, '0', '0', '0', '0', '0']\n",
      "[1, 3, 6, 9, 4, 5, 6, 7, 8]\n"
     ]
    },
    {
     "data": {
      "text/plain": [
       "list"
      ]
     },
     "execution_count": 28,
     "metadata": {},
     "output_type": "execute_result"
    }
   ],
   "source": [
    "#appending a single element\n",
    "\n",
    "my_list=[1,2]\n",
    "i=1\n",
    "while(i<=5):\n",
    "    value=input(\"Enter an element: \")\n",
    "    my_list.append(value)\n",
    "    i+=1\n",
    "print(my_list)\n",
    "\n",
    "#appending multiple elements\n",
    "my_list=[1,3,6,9]\n",
    "my_new_list=[4,5,6,7,8]\n",
    "my_list.extend(my_new_list)\n",
    "print(my_list)\n",
    "type(my_list)"
   ]
  },
  {
   "cell_type": "code",
   "execution_count": 32,
   "metadata": {},
   "outputs": [
    {
     "name": "stdout",
     "output_type": "stream",
     "text": [
      "['a', 'd', 'd', 'b', 'c', 'e', 'f']\n",
      "1\n",
      "['f', 'e', 'c', 'b', 'd', 'd', 'a']\n",
      "['a', 'b', 'c', 'd', 'd', 'e', 'f']\n",
      "['f', 'e', 'd', 'd', 'c', 'b', 'a']\n"
     ]
    },
    {
     "ename": "TypeError",
     "evalue": "'<' not supported between instances of 'float' and 'str'",
     "output_type": "error",
     "traceback": [
      "\u001b[1;31m---------------------------------------------------------------------------\u001b[0m",
      "\u001b[1;31mTypeError\u001b[0m                                 Traceback (most recent call last)",
      "\u001b[1;32m<ipython-input-32-98a50c40d684>\u001b[0m in \u001b[0;36m<module>\u001b[1;34m\u001b[0m\n\u001b[0;32m     14\u001b[0m \u001b[1;33m\u001b[0m\u001b[0m\n\u001b[0;32m     15\u001b[0m \u001b[0mb\u001b[0m\u001b[1;33m=\u001b[0m\u001b[1;33m[\u001b[0m\u001b[1;34m'spam'\u001b[0m\u001b[1;33m,\u001b[0m\u001b[1;36m2.0\u001b[0m\u001b[1;33m,\u001b[0m\u001b[1;36m5\u001b[0m\u001b[1;33m,\u001b[0m\u001b[1;33m[\u001b[0m\u001b[1;36m10\u001b[0m\u001b[1;33m,\u001b[0m\u001b[1;34m'raj'\u001b[0m\u001b[1;33m]\u001b[0m\u001b[1;33m]\u001b[0m\u001b[1;33m\u001b[0m\u001b[1;33m\u001b[0m\u001b[0m\n\u001b[1;32m---> 16\u001b[1;33m \u001b[0mb\u001b[0m\u001b[1;33m.\u001b[0m\u001b[0msort\u001b[0m\u001b[1;33m(\u001b[0m\u001b[1;33m)\u001b[0m\u001b[1;33m\u001b[0m\u001b[1;33m\u001b[0m\u001b[0m\n\u001b[0m",
      "\u001b[1;31mTypeError\u001b[0m: '<' not supported between instances of 'float' and 'str'"
     ]
    }
   ],
   "source": [
    "#insert function\n",
    "list1=['a','d','b','c','e','f']\n",
    "list1.insert(1,\"d\")\n",
    "print(list1)\n",
    "print(list1.index('d'))\n",
    "\n",
    "list1.reverse()\n",
    "print(list1)\n",
    "\n",
    "list1.sort()                    #applicable only on same data type variables\n",
    "print(list1)\n",
    "list1.sort(reverse=True)\n",
    "print(list1)\n",
    "\n",
    "b=['spam',2.0,5,[10,'raj']]\n",
    "b.sort()"
   ]
  },
  {
   "cell_type": "code",
   "execution_count": 46,
   "metadata": {},
   "outputs": [
    {
     "name": "stdout",
     "output_type": "stream",
     "text": [
      "['a', 'd', 'c', 'e', 'f']\n",
      "['a', 'c', 'e', 'f']\n",
      "['a', 'c', 'e', 'f']\n",
      "4\n",
      "python\n",
      "h\n",
      "[1, 2, 3, 4, 5]\n",
      "[(10, 2), (20, 4), (30, 6), (40, 8), (50, 10)]\n"
     ]
    }
   ],
   "source": [
    "list1=['a','d','b','c','e','f']\n",
    "del list1[2]             #when an element is to be dropped when we know the index number\n",
    "print(list1)\n",
    "\n",
    "list1.remove('d')        #remove is used when we know which element is to be dropped\n",
    "print(list1)\n",
    "\n",
    "print(list1)\n",
    "del list1[1:3]           #removes the elements at 0,1,2 indexes\n",
    "list1\n",
    "\n",
    "list2=list1.copy()\n",
    "list2\n",
    "\n",
    "list1.clear()\n",
    "list1\n",
    "\n",
    "#aggregate functions\n",
    "#num=[5,10,15,20,25,30]\n",
    "num=[\"p\",\"py\",\"python\",\"h\"]\n",
    "print(len(num))\n",
    "print(max(num))\n",
    "print(min(num))\n",
    "#print(sum(num))\n",
    "#print(sum(num)/len(num))\n",
    "\n",
    "\n",
    "#lists and strings\n",
    "#x=\"python python\"\n",
    "x=[1,2,3,4,5]\n",
    "y=list(x)\n",
    "print(y)\n",
    "type(y)\n",
    "\n",
    "#zip function\n",
    "a=[10,20,30,40,50,60]\n",
    "b=[2,4,6,8,10]\n",
    "print(list(zip(a,b)))"
   ]
  },
  {
   "cell_type": "code",
   "execution_count": null,
   "metadata": {},
   "outputs": [],
   "source": [
    "#creation of tuples\n",
    "a=(5,'python',10+2j)\n",
    "print(type(a))\n",
    "print(a[0])\n",
    "\n",
    "#empty tuple\n",
    "c=()\n",
    "print(type(c))\n",
    "\n",
    "c=tuple(\"python\")\n",
    "print(c)\n",
    "\n",
    "n_tuple=(\"mouse\",[8,4,6],(1,2,3),8)\n",
    "print(n_tuple[1])\n",
    "print(n_tuple[1][2])\n",
    "n_tuple[1][2]=9\n",
    "print(n_tuple)\n",
    "\n",
    "#n_tuple[1][2]=0\n",
    "\n",
    "del n_tuple[1]             #tuple does not support item deletion\n",
    "print(n_tuple)\n",
    "del(n_tuple)"
   ]
  },
  {
   "cell_type": "code",
   "execution_count": 54,
   "metadata": {},
   "outputs": [
    {
     "name": "stdout",
     "output_type": "stream",
     "text": [
      "{1, 2, 3, 4, 5, 6, 7, 38, 72, 10, 16}\n",
      "{1, 'Manish', 'Hello', (1, 2, 4)}\n",
      "{1, 2, (2, 4)}\n",
      "<class 'dict'>\n",
      "<class 'set'>\n",
      "{1, 3}\n",
      "{8, 1, 3}\n",
      "{1, 3, 4, 5, 6, (10, 11), 8, 12, 15, (8, 9)}\n",
      "{1, 3, 4, 5, 6}\n",
      "{1, 3, 4, 5}\n",
      "{1, 2, 3, 4, 5, 6, 7, 8, 9, 10}\n",
      "{1, 2, 3, 4, 5, 6, 7, 8, 9, 10}\n",
      "{4, 5}\n",
      "{4, 5}\n",
      "{10, 1, 2, 3}\n",
      "{8, 6, 7}\n"
     ]
    }
   ],
   "source": [
    "my_set={1,2,3,5,7,6,4,3,2,10,38,72,16}\n",
    "print(my_set)\n",
    "\n",
    "my_set={1,1.0,\"Hello\",\"Manish\",(1,2,4)}\n",
    "print(my_set)\n",
    "\n",
    "#my_set={1,2,[3,4]}\n",
    "my_set={1,2,(2,4)}\n",
    "print(my_set)\n",
    "#following gives an error \n",
    "#my_set[1]                 #indexing is not supported in sets\n",
    "a={}\n",
    "print(type(a))\n",
    "\n",
    "#creating an empty set\n",
    "a=set()\n",
    "print(type(a))\n",
    "\n",
    "#adding elements\n",
    "my_set={1,3}\n",
    "print(my_set)\n",
    "#my_set[0]=1            #error since index is used\n",
    "\n",
    "my_set.add(8)\n",
    "print(my_set)\n",
    "\n",
    "my_set.update([6,8],{1,4,5},(15,12),((8,9),(10,11)))\n",
    "print(my_set)\n",
    "\n",
    "\n",
    "#removing elements\n",
    "my_set={1,3,4,5,6}\n",
    "print(my_set)\n",
    "my_set.remove(6)\n",
    "print(my_set)\n",
    "#del my_set[2]         #not supported since indexing is used\n",
    "#print(my_set)\n",
    "\n",
    "#union and intersection\n",
    "\n",
    "A={1,2,3,4,5,9}\n",
    "B={4,5,6,7,8,10}\n",
    "\n",
    "print(A|B)\n",
    "print(A.union(B))\n",
    "\n",
    "print(A&B)\n",
    "print(A.intersection(B))\n",
    "\n",
    "A={1,2,3,4,5,10}\n",
    "B={4,5,6,7,8}\n",
    "print(A-B)\n",
    "print(B.difference(A))"
   ]
  },
  {
   "cell_type": "code",
   "execution_count": 64,
   "metadata": {},
   "outputs": [
    {
     "name": "stdout",
     "output_type": "stream",
     "text": [
      "{1: 'A', 2: 'B'}\n",
      "{'name': 'John', 'ID': [2, 4, 3]}\n",
      "{'fruit': 'mango', 2: 'ball'}\n",
      "40\n",
      "{'name': 'John', 'age': 12}\n",
      "{'name': 'John', 'age': 12, 'address': 'Mumbai'}\n",
      "{1: 1, 2: 4, 3: 9, 4: 16}\n",
      "[(1, 5), (2, 6), (3, 7), (4, 8)]\n",
      "{1: 5, 2: 6, 3: 7, 4: 8}\n"
     ]
    }
   ],
   "source": [
    "#dictionaries\n",
    "my_d={}\n",
    "\n",
    "my_d={1:'A', 2:'B'}                                          #{keys:values}\n",
    "print(my_d)\n",
    "\n",
    "my_d={'name':'John', \"ID\":[2,4,3]}\n",
    "print(my_d)\n",
    "\n",
    "my_d=dict([(\"fruit\",'apple'),(2,'ball'),(\"fruit\",\"mango\")])   #overwrites the values with same keys\n",
    "print(my_d)\n",
    "\n",
    "#accessing values\n",
    "my_d={'name':'John', \"age\":40}\n",
    "print(my_d['age'])\n",
    "#print(my_d['add'])                                          #error since add keyword is not specified\n",
    "\n",
    "my_d['age']=12\n",
    "print(my_d)\n",
    "\n",
    "my_d['address']='Mumbai'\n",
    "print(my_d)\n",
    "\n",
    "#deleting\n",
    "squares={1:1, 2:4, 3:9, 4:16, 5:25}\n",
    "del squares[5]          #removes pairs with number 5 in it\n",
    "print(squares) \n",
    "\n",
    "squares.values()\n",
    "squares.keys()\n",
    "\n",
    "a=[1,2,3,4]\n",
    "b=[5,6,7,8]\n",
    "c=list(zip(a,b))\n",
    "print(c)\n",
    "d=dict(c)\n",
    "print(d)\n",
    "\n",
    "#OR\n",
    "c={}\n",
    "\n",
    "for i in range(0,4):\n",
    "    c[a[i]]=b[i]\n",
    "    print(c)"
   ]
  },
  {
   "cell_type": "markdown",
   "metadata": {},
   "source": [
    "\n",
    "\n"
   ]
  }
 ],
 "metadata": {
  "kernelspec": {
   "display_name": "Python 3",
   "language": "python",
   "name": "python3"
  },
  "language_info": {
   "codemirror_mode": {
    "name": "ipython",
    "version": 3
   },
   "file_extension": ".py",
   "mimetype": "text/x-python",
   "name": "python",
   "nbconvert_exporter": "python",
   "pygments_lexer": "ipython3",
   "version": "3.7.1"
  }
 },
 "nbformat": 4,
 "nbformat_minor": 2
}
